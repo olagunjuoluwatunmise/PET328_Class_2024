{
 "cells": [
  {
   "cell_type": "markdown",
   "id": "71215c29",
   "metadata": {},
   "source": [
    "... to the only wise God!!!"
   ]
  },
  {
   "cell_type": "markdown",
   "id": "8371b61f",
   "metadata": {},
   "source": [
    "# Functions (Re-usable Statements)"
   ]
  },
  {
   "cell_type": "markdown",
   "id": "bacdc821",
   "metadata": {},
   "source": [
    "Sometimes, you write a sequence of statements to perform a task, and you realize you often perform that task; may be in the same program, or in other programs.\n",
    "\n",
    "You don’t want to keep writing (or copying) same sequence of statements anytime you need to perform such task.\n",
    "\n",
    "You may give the sequence of statements a _cute_ name; so that anytime that task is to be performed, you simply call that name and the entire sequence of statements in the code get executed!\n",
    "\n",
    "Just like you assign a value to a name to make a variable; you assign a sequence of statements to a name to make a function.\n",
    "\n",
    "Such a named sequence of statements is known as function!"
   ]
  },
  {
   "cell_type": "markdown",
   "id": "6fdab194",
   "metadata": {},
   "source": [
    "**Benefits of writing functions:**\n",
    "\n",
    "    -> Saves typing efforts\n",
    "    -> Reduces the risk of mistakes\n",
    "    -> Help to organize your codes\n",
    "    -> Makes your code more readable"
   ]
  },
  {
   "cell_type": "markdown",
   "id": "e9ff97b3",
   "metadata": {},
   "source": [
    "Take note, functions (named sequence of statements) are objects just as variables (named values) are objects. \n",
    "\n",
    "The installed (base)Python itself thrives on a lot of in-built functions such as print, input, range, min, max, len, float, int, str etc. \n",
    "\n",
    "Functions created (defined) by users (i.e. not built into Python during installation) are known as user-defined functions."
   ]
  },
  {
   "cell_type": "markdown",
   "id": "1d9db91e",
   "metadata": {},
   "source": [
    "## Function Definitions"
   ]
  },
  {
   "cell_type": "markdown",
   "id": "4e4941b0",
   "metadata": {},
   "source": [
    "**Function Header:**\n",
    "The first line (_header_) of a function definition starts with the keyword _def_, followed by the name of the function (as chosen by you), followed by a comma-separated list of function argument(s) enclosed in parenthesis, and finally, a colon.\n",
    "\n",
    "If the function requires no arguments, an empty parenthesis () is typed."
   ]
  },
  {
   "cell_type": "markdown",
   "id": "ed783f3b",
   "metadata": {},
   "source": [
    "##### Example: Function to compute stock tank oil in place (STOIIP) in an oil reservoir\n",
    "\n",
    "\n",
    "$$N = \\frac{7758Ah\\phi (1-S_{wi})}{B_{oi}}$$\n"
   ]
  },
  {
   "cell_type": "code",
   "execution_count": 8,
   "id": "944f7016",
   "metadata": {},
   "outputs": [],
   "source": [
    "# stoiip: name chosen for the function\n",
    "\n",
    "def stoiip(area, thickness, poro, sw, boi):      # header\n",
    "    N = (7758*area*thickness*poro*(1-sw))/boi    # body begins on this line\n",
    "    N = round(N,2)\n",
    "    return N                                     # body ends here\n",
    "\n"
   ]
  },
  {
   "cell_type": "markdown",
   "id": "c6d2423d",
   "metadata": {},
   "source": [
    "**Function Body:**\n",
    "The sequence of statements (to be executed whenever the function is called) is known as the _body_ of the function, and is written in subsequent indented lines after the function’s header.\n",
    "\n",
    "**Function Return Value:**\n",
    "A statement specifying the value(s) to be returned by the function must be included with the keyword _return_   \n"
   ]
  },
  {
   "cell_type": "markdown",
   "id": "f294d4ca",
   "metadata": {},
   "source": [
    "**Function Arguments:** \n",
    "The arguments of a function are the values that that it would need to execute its sequence of statements when called.\n",
    "When defining a function, placeholders (variable names with no values assigned) corresponding to these arguments are named, listed and used in expressions.\n",
    "\n",
    "When the function is called, actual values for the arguments are specified (more on this, soon)."
   ]
  },
  {
   "cell_type": "markdown",
   "id": "ec859dc5",
   "metadata": {},
   "source": [
    "### Defining functions with default arguments"
   ]
  },
  {
   "cell_type": "markdown",
   "id": "5739448e",
   "metadata": {},
   "source": [
    "In some cases, some arguments may have default values – a standard (often-used) value, to be used if value is not provided in the function call.\n",
    "\n",
    "Such default value is to be assigned to the concerned argument name at the point of defining the function.\n",
    "\n",
    "All such default arguments should only be listed after all un-defaulted arguments have been listed.\n"
   ]
  },
  {
   "cell_type": "markdown",
   "id": "5a0d2ef4",
   "metadata": {},
   "source": [
    "##### Example: a function to compute the density of a real gas (in lb/ft3)\n",
    "\n",
    "$$\\rho_g = \\frac{2.7P\\gamma_g}{zT}$$"
   ]
  },
  {
   "cell_type": "markdown",
   "id": "51f715d4",
   "metadata": {},
   "source": [
    "While the equation above works for gas density at any given values of pressure, $P$ and temperature, $T$; often, engineers want to compute gas density specifically at standard values of pressure ($14.7 psia$) and temperature ($520^0$ $Rankine$). At these values, the z-factor, $z$ also takes a standard value of $1.0$."
   ]
  },
  {
   "cell_type": "markdown",
   "id": "4247059f",
   "metadata": {},
   "source": [
    "In this example, the function might be defined to accommodate these default values.\n",
    "\n",
    "However, the user may still specify other values for these default arguments when calling the function (more on this, soon)."
   ]
  },
  {
   "cell_type": "code",
   "execution_count": 9,
   "id": "18989800",
   "metadata": {},
   "outputs": [],
   "source": [
    "def gas_density(gravity, pressure = 14.7, temperature = 520, z = 1):\n",
    "    density = (2.70*pressure*gravity)/(z*temperature)\n",
    "    return round(density, 4)"
   ]
  },
  {
   "cell_type": "markdown",
   "id": "20c4f282",
   "metadata": {},
   "source": [
    "### Function return statements"
   ]
  },
  {
   "cell_type": "markdown",
   "id": "d1e5f1fd",
   "metadata": {},
   "source": [
    "A function should have a return statement specifying an output to be returned when called.\n",
    "\n",
    "The value to be returned is typically an output generated by one of the statements in the function; not necessarily the last output in the sequence.\n",
    "\n",
    "**Functions with multiple return values:**\n",
    "\n",
    "A collection of more than one value may be returned. For example, a function to compute volumetric parameters (bulk volume ($BV$), pore volume ($PV$) and STOIIP ($N$) of a reservoir.\n",
    "\n",
    "$$BV = Ah$$\n",
    "\n",
    "$$PV = BV\\phi$$\n",
    "\n",
    "$$N = \\frac{7758PV(1-S_{wi})}{b_{oi}}$$\n"
   ]
  },
  {
   "cell_type": "code",
   "execution_count": 10,
   "id": "bc8e1b94",
   "metadata": {},
   "outputs": [],
   "source": [
    "# function to compute reservoir volumetric parameters\n",
    "\n",
    "def volumetrics(area, thickness, poro, sw, boi):\n",
    "    BV = area*thickness\n",
    "    PV = poro*BV\n",
    "    N = (7758*PV*(1-sw))/boi\n",
    "    N = round(N, 2)\n",
    "    PV = round(PV, 2)\n",
    "    return (N, PV)   # returning multiple values"
   ]
  },
  {
   "cell_type": "markdown",
   "id": "e69f0e18",
   "metadata": {},
   "source": [
    "**Functions with alternative return statements:**\n",
    "\n",
    "Alternative return statements may exist, if the body of the function involved a conditional execution structure. For example, a function to compute solution gas oil ratio, $R_s$. The computation is conditioned on the value of pressure being above OR below bubble-point pressure.\n",
    "\n",
    "For pressures below bubble-point pressure:\n",
    "\n",
    "$$R_s = \\gamma_g \\big( \\frac{P}{18 \\times 10^{y_g}}\\big)^{1.204}$$\n",
    "\n",
    "For pressures at or greater than bubble-point pressure:\n",
    "\n",
    "$$R_{sb} = \\gamma_g \\big( \\frac{P_b}{18 \\times 10^{y_g}}\\big)^{1.204}$$\n",
    "\n",
    "Where: $$y_g = 0.00091T_F - 0.0125 API$$\n",
    "\n",
    "And: $$API = \\frac{141.5}{\\gamma_o} - 131.5$$"
   ]
  },
  {
   "cell_type": "code",
   "execution_count": 11,
   "id": "d9790e62",
   "metadata": {},
   "outputs": [],
   "source": [
    "# function to compute solution gas-oil ratio\n",
    "\n",
    "def sol_gor(temperature, pressure, gas_gravity, oil_gravity, pb): # where pb is bubble point pressure.\n",
    "    api = (141.5/oil_gravity)-131.5\n",
    "    y = (0.00091*temperature)-(0.0125*api)\n",
    "    if pressure<pb:\n",
    "        rs = gas_gravity*(((pressure)/(18*(10**y)))**1.205)\n",
    "        return round(rs,2)\n",
    "    else:\n",
    "        rsb = gas_gravity*(((pb)/(18*(10**y)))**1.205)\n",
    "        return round(rsb,2)"
   ]
  },
  {
   "cell_type": "markdown",
   "id": "79fb1607",
   "metadata": {},
   "source": [
    "When no return value is specified, the function simply return a special value called **_None_**."
   ]
  },
  {
   "cell_type": "markdown",
   "id": "158cfdcb",
   "metadata": {},
   "source": [
    "## Function Calls"
   ]
  },
  {
   "cell_type": "markdown",
   "id": "4e227364",
   "metadata": {},
   "source": [
    "A function (already defined) is called simply by typing its name and a list of its argument values enclosed in parenthesis.\n",
    "\n",
    "If the function requires no arguments, an empty parenthesis () is typed.\n"
   ]
  },
  {
   "cell_type": "code",
   "execution_count": 15,
   "id": "8b0fe3c3",
   "metadata": {},
   "outputs": [
    {
     "data": {
      "text/plain": [
       "837864.0"
      ]
     },
     "execution_count": 15,
     "metadata": {},
     "output_type": "execute_result"
    }
   ],
   "source": [
    "# calling Function stoiip:\n",
    "\n",
    "stoiip(40, 15, 0.3, 0.28, 1.2)"
   ]
  },
  {
   "cell_type": "code",
   "execution_count": 13,
   "id": "5972ddae",
   "metadata": {},
   "outputs": [
    {
     "data": {
      "text/plain": [
       "0.074"
      ]
     },
     "execution_count": 13,
     "metadata": {},
     "output_type": "execute_result"
    }
   ],
   "source": [
    "# calling Function gas-density:\n",
    "gas_density(0.97)"
   ]
  },
  {
   "cell_type": "markdown",
   "id": "6d2f368e",
   "metadata": {},
   "source": [
    "If a function call is assigned to a variable on the LHS of the call statement, upon execution, the return value of the function is stored in (assigned to) that variable."
   ]
  },
  {
   "cell_type": "code",
   "execution_count": 16,
   "id": "ae540c4a",
   "metadata": {},
   "outputs": [
    {
     "name": "stdout",
     "output_type": "stream",
     "text": [
      "The amount of stock-tank oil in-place in the reservoir is 837864.0 STB\n"
     ]
    }
   ],
   "source": [
    "# assigning function return value to a LHS variable\n",
    "reserve = stoiip(40, 15, 0.3, 0.28, 1.2)\n",
    "\n",
    "# refering to the variable in a statement\n",
    "print(f'The amount of stock-tank oil in-place in the reservoir is {reserve} STB')"
   ]
  },
  {
   "cell_type": "markdown",
   "id": "764168b2",
   "metadata": {},
   "source": [
    "**Caution:**\n",
    "If a function is defined without a _return_ statement; the function returns a Python object known as **_None_** when it is called.\n"
   ]
  },
  {
   "cell_type": "code",
   "execution_count": 18,
   "id": "f87d8338",
   "metadata": {},
   "outputs": [],
   "source": [
    "# define function:\n",
    "def stoiip_no_return(area, thickness, poro, sw, boi):\n",
    "    N = (7758*area*thickness*poro*(1-sw))/boi\n",
    "    N = round(N,2)\n",
    "\n",
    "# call function:\n",
    "stoiip_no_return(60, 13, 0.25, 0.32, 1.24)"
   ]
  },
  {
   "cell_type": "markdown",
   "id": "9c7c5a96",
   "metadata": {},
   "source": [
    "**_return_ versus _print_**"
   ]
  },
  {
   "cell_type": "markdown",
   "id": "9931741d",
   "metadata": {},
   "source": [
    "It is tempting to think that the _return_ statement does same task as a _print_ statement! Let's see."
   ]
  },
  {
   "cell_type": "code",
   "execution_count": 19,
   "id": "1daa33f0",
   "metadata": {},
   "outputs": [
    {
     "name": "stdout",
     "output_type": "stream",
     "text": [
      "829605.48\n"
     ]
    }
   ],
   "source": [
    "# define function:\n",
    "def stoiip_no_return(area, thickness, poro, sw, boi):\n",
    "    N = (7758*area*thickness*poro*(1-sw))/boi\n",
    "    N = round(N,2)\n",
    "    print(N)\n",
    "\n",
    "# call function:\n",
    "stoiip_no_return(60, 13, 0.25, 0.32, 1.24)"
   ]
  },
  {
   "cell_type": "markdown",
   "id": "3eca570b",
   "metadata": {},
   "source": [
    "Oh! It appears like _return_ and _print_ perform the same task: displaying the output of a function call.\n",
    "\n",
    "Not really!\n",
    "\n",
    "The _return_ statement indeed displays the output on the screen, when the function call is not assigned to a LHS variable. However, when the call is assigned to a LHS variable, the _return_ statement does not display the value; rather, it assigns the value to the LHS variable.\n",
    "\n",
    "Whereas, _print_ statement merely displays on the screen; does not assign.\n",
    "\n",
    "This difference becomes obvious when a function (with no _return_ statement) is called and assigned to a LHS variable. In such a case, the function call returns and assigns **_None_** to the LHS variable. Any attempt to later refer to the LHS variable would be a reference to **_None_**. Clearly, that would be undesirable; except intentional. "
   ]
  },
  {
   "cell_type": "code",
   "execution_count": 20,
   "id": "c3ff4cf4",
   "metadata": {},
   "outputs": [
    {
     "name": "stdout",
     "output_type": "stream",
     "text": [
      "829605.48\n",
      "The amount of stock-tank oil in-place in the reservoir is None STB\n"
     ]
    }
   ],
   "source": [
    "# define function:\n",
    "def stoiip_no_return(area, thickness, poro, sw, boi):\n",
    "    N = (7758*area*thickness*poro*(1-sw))/boi\n",
    "    N = round(N,2)\n",
    "    print(N)\n",
    "\n",
    "# call function:\n",
    "no_val = stoiip_no_return(60, 13, 0.25, 0.32, 1.24)\n",
    "\n",
    "# refering to the variable in a statement\n",
    "print(f'The amount of stock-tank oil in-place in the reservoir is {no_val} STB')"
   ]
  },
  {
   "cell_type": "markdown",
   "id": "b8b8ae88",
   "metadata": {},
   "source": [
    "**Calling functions with multiple return values:**\n",
    "\n",
    "For functions that returns multiple values, the function call may be assigned to multiple variables (as many as there are return values) on the LHS of the call. \n",
    "\n",
    "In that case, the return values are **unbundled** into respective LHS variables.\n",
    "\n",
    "Otherwise all the return values are stored into the single LHS variable as a collection."
   ]
  },
  {
   "cell_type": "code",
   "execution_count": 21,
   "id": "169816d9",
   "metadata": {},
   "outputs": [
    {
     "name": "stdout",
     "output_type": "stream",
     "text": [
      "(837864.0, 180.0)\n"
     ]
    }
   ],
   "source": [
    "# bundling multiple return values:\n",
    "\n",
    "vol_pars = volumetrics(40, 15, 0.3, 0.28, 1.2)\n",
    "\n",
    "print(vol_pars)"
   ]
  },
  {
   "cell_type": "code",
   "execution_count": 22,
   "id": "ff1c3fc9",
   "metadata": {},
   "outputs": [
    {
     "name": "stdout",
     "output_type": "stream",
     "text": [
      "837864.0\n",
      "180.0\n"
     ]
    }
   ],
   "source": [
    "# unbundling multiple return values:\n",
    "\n",
    "my_stoiip, my_PV = volumetrics(40, 15, 0.3, 0.28, 1.2)\n",
    "\n",
    "print(my_stoiip)\n",
    "\n",
    "print(my_PV)"
   ]
  },
  {
   "cell_type": "markdown",
   "id": "1957bea0",
   "metadata": {},
   "source": [
    "### Specifying arguments in function calls"
   ]
  },
  {
   "cell_type": "markdown",
   "id": "4988fb13",
   "metadata": {},
   "source": [
    "In specifying values of arguments, users don’t have to necessarily indicate names of the arguments as stated during the function definition.\n",
    "\n",
    "Users only have to specify the argument values in the order (position) that they were listed during definition – this is known as **positional argument specification**.\n",
    "\n",
    "Sometimes, the values to be passed to a function call might have been previously assigned to a variable; such variable name may be passed in place of the value.\n"
   ]
  },
  {
   "cell_type": "code",
   "execution_count": null,
   "id": "53be1f53",
   "metadata": {},
   "outputs": [],
   "source": [
    "drainage_area = 40\n",
    "payzone_thickness = 15\n",
    "\n",
    "# function call (arguments specified positionally):\n",
    "stoiip(drainage_area, payzone_thickness, 0.3, 0.28, 1.2)"
   ]
  },
  {
   "cell_type": "markdown",
   "id": "60367915",
   "metadata": {},
   "source": [
    "Alternatively, argument values may be specified alongside the names listed during the function definition.\n",
    "\n",
    "In this case, specifying the arguments don’t have to be in a specific order – this is known as **keyworded argument specification**.\n",
    "\n",
    "**Caution**: the names must be spelt exactly, as spelt during definition.\n"
   ]
  },
  {
   "cell_type": "code",
   "execution_count": null,
   "id": "5a267ba2",
   "metadata": {},
   "outputs": [],
   "source": [
    "# function call (arguments specified with keywords):\n",
    "stoiip(poro = 0.3, boi = 1.2, area = 40, sw = 0.28, thickness = 15)"
   ]
  },
  {
   "cell_type": "markdown",
   "id": "e9b95ae6",
   "metadata": {},
   "source": [
    "**Positional argument specification versus Keyworded argument specification**\n",
    "\n",
    "Positional argument specification saves typing efforts and reduces the risk of error in naming; requires you know the order of the argument.\n",
    "\n",
    "Keyworded argument specification makes no demand on the order, but requires you know the exact spelling of the arguments name"
   ]
  },
  {
   "cell_type": "markdown",
   "id": "01f4ac8b",
   "metadata": {},
   "source": [
    "**Calling a Function with Defaulted Arguments**\n",
    "\n",
    "When default value argument are present, both argument specification approach may be mixed in a function call.\n",
    "\n",
    "In such case, the un-defaulted (compulsory) arguments must first be specified positionally while the defaulted (optional) arguments may be specified with keywords.\n",
    "\n",
    "Take note that the fact that an argument is already defaulted does not imply that a user cannot specify another value.\n",
    "\n",
    "In cases where a user need to specify all compulsory arguments and some (not all) optional arguments; it is advisable that keywords be used.\n",
    "\n",
    "In general, positional arguments specification can only be used for arguments preceding the first skipped optional arguments. \n"
   ]
  },
  {
   "cell_type": "markdown",
   "id": "0223a22d",
   "metadata": {},
   "source": [
    "The following calls (except one) are equivalent:"
   ]
  },
  {
   "cell_type": "code",
   "execution_count": 23,
   "id": "7d560cd6",
   "metadata": {},
   "outputs": [
    {
     "data": {
      "text/plain": [
       "0.06"
      ]
     },
     "execution_count": 23,
     "metadata": {},
     "output_type": "execute_result"
    }
   ],
   "source": [
    "# all arguments positionally specified\n",
    "gas_density(0.786, 14.7, 520, 1)"
   ]
  },
  {
   "cell_type": "code",
   "execution_count": 24,
   "id": "0d1d18b2",
   "metadata": {},
   "outputs": [
    {
     "data": {
      "text/plain": [
       "0.06"
      ]
     },
     "execution_count": 24,
     "metadata": {},
     "output_type": "execute_result"
    }
   ],
   "source": [
    "# all arguments specified with keywords\n",
    "gas_density(gravity = 0.786, pressure = 14.7, temperature = 520, z = 1)"
   ]
  },
  {
   "cell_type": "code",
   "execution_count": 25,
   "id": "9f824612",
   "metadata": {},
   "outputs": [
    {
     "data": {
      "text/plain": [
       "0.06"
      ]
     },
     "execution_count": 25,
     "metadata": {},
     "output_type": "execute_result"
    }
   ],
   "source": [
    "# all defaulted arguments unspecified\n",
    "gas_density(0.786)"
   ]
  },
  {
   "cell_type": "code",
   "execution_count": 26,
   "id": "3bbaa113",
   "metadata": {},
   "outputs": [
    {
     "data": {
      "text/plain": [
       "0.06"
      ]
     },
     "execution_count": 26,
     "metadata": {},
     "output_type": "execute_result"
    }
   ],
   "source": [
    "# temperature specified with keyword because pressure has been skipped\n",
    "gas_density(0.786, temperature = 520)"
   ]
  },
  {
   "cell_type": "code",
   "execution_count": 27,
   "id": "ac5633bc",
   "metadata": {},
   "outputs": [
    {
     "data": {
      "text/plain": [
       "0.06"
      ]
     },
     "execution_count": 27,
     "metadata": {},
     "output_type": "execute_result"
    }
   ],
   "source": [
    "# pressure specified positionally because no argument has been skipped yet.\n",
    "gas_density(0.786, 14.7)"
   ]
  },
  {
   "cell_type": "code",
   "execution_count": 28,
   "id": "1642acf5",
   "metadata": {},
   "outputs": [
    {
     "data": {
      "text/plain": [
       "2.1222"
      ]
     },
     "execution_count": 28,
     "metadata": {},
     "output_type": "execute_result"
    }
   ],
   "source": [
    "# temperature wrongly specified positionally; got interpreted as pressure:\n",
    "gas_density(0.786, 520)"
   ]
  },
  {
   "cell_type": "markdown",
   "id": "b0804d17",
   "metadata": {},
   "source": [
    "### Importing functions from other scripts (modules/libraries)"
   ]
  },
  {
   "cell_type": "markdown",
   "id": "3007a614",
   "metadata": {},
   "source": [
    "So far, we have called functions that are defined in the same script where the call is made.\n",
    "\n",
    "Sometimes, a function defined in a script (defining script: modules or libraries) needed to be called in another script (calling script). To avoid clumsiness, you may not want to copy the function definition to the calling script; in such cases, you simply **_import_** the function."
   ]
  },
  {
   "cell_type": "markdown",
   "id": "6c2c6ba2",
   "metadata": {},
   "source": [
    "You may import function(s) using any of the following three (3) approaches:"
   ]
  },
  {
   "cell_type": "markdown",
   "id": "d4ae0442",
   "metadata": {},
   "source": [
    "In the following statements, we are importing functions from a script/module named _peteng_. The file _peteng.py_ contains some simple functions (defined in this course) to perform simple petroleum engineering computations. The file must be available in the same directory as this script, for it to be successfully imported.\n"
   ]
  },
  {
   "cell_type": "markdown",
   "id": "92217670",
   "metadata": {},
   "source": [
    "**Approach 1: import the entire file/module/library**\n",
    "\n",
    "In this case, the whole content of the file (function stoiip and others) is imported.\n",
    "\n",
    "Calling any function in the imported file must be preceded with the file name and a period(.); e.g: peteng.stoiip(…)"
   ]
  },
  {
   "cell_type": "code",
   "execution_count": 31,
   "id": "bd477a98",
   "metadata": {},
   "outputs": [
    {
     "data": {
      "text/plain": [
       "2608.51"
      ]
     },
     "execution_count": 31,
     "metadata": {},
     "output_type": "execute_result"
    }
   ],
   "source": [
    "import peteng\n",
    "\n",
    "# call function bubble_pressure in peteng\n",
    "peteng.bubble_pressure(temperature = 220, pressure = 4000, gas_gravity = 0.786, oil_gravity = 0.8217, rsb = 743)"
   ]
  },
  {
   "cell_type": "markdown",
   "id": "1ab57dd7",
   "metadata": {},
   "source": [
    "**Approach 2: From the file, import all functions**\n",
    "\n",
    "In this case also, the whole content of the file (function stoiip and others) is imported.\n",
    "The functions should be called without any prefix  e.g: stoiip(…)"
   ]
  },
  {
   "cell_type": "code",
   "execution_count": 32,
   "id": "742590f7",
   "metadata": {},
   "outputs": [
    {
     "data": {
      "text/plain": [
       "572.74"
      ]
     },
     "execution_count": 32,
     "metadata": {},
     "output_type": "execute_result"
    }
   ],
   "source": [
    "from peteng import *\n",
    "\n",
    "# call function sol_gor in peteng\n",
    "sol_gor(temperature = 220, pressure = 2100, gas_gravity = 0.786, oil_gravity = 0.8217, pb = 2608.51)"
   ]
  },
  {
   "cell_type": "markdown",
   "id": "34264a71",
   "metadata": {},
   "source": [
    "**Approach 3: From the file, import only needed function(s)**\n",
    "\n",
    "In this case, only the function(s) indicated after the keyword _import_ is/are imported.\n",
    "Here too, the function(s) should be called without any prefix  e.g: stoiip(…)"
   ]
  },
  {
   "cell_type": "code",
   "execution_count": 33,
   "id": "98354ba8",
   "metadata": {},
   "outputs": [
    {
     "data": {
      "text/plain": [
       "1.4267"
      ]
     },
     "execution_count": 33,
     "metadata": {},
     "output_type": "execute_result"
    }
   ],
   "source": [
    "from peteng import fvf, bubble_pressure, sol_gor\n",
    "\n",
    "# call function fvf in peteng\n",
    "fvf(pressure = 4000, temperature = 220, gas_gravity = 0.786, oil_gravity = 0.8217, pb = 2608.51, co = 0.00001413)"
   ]
  },
  {
   "cell_type": "code",
   "execution_count": 34,
   "id": "23ad57bd",
   "metadata": {},
   "outputs": [
    {
     "name": "stdout",
     "output_type": "stream",
     "text": [
      "to the only wise God!!!\n"
     ]
    }
   ],
   "source": [
    "print('to the only wise God!!!')"
   ]
  },
  {
   "cell_type": "code",
   "execution_count": null,
   "id": "beb66dfc",
   "metadata": {},
   "outputs": [],
   "source": []
  }
 ],
 "metadata": {
  "kernelspec": {
   "display_name": "Python 3 (ipykernel)",
   "language": "python",
   "name": "python3"
  },
  "language_info": {
   "codemirror_mode": {
    "name": "ipython",
    "version": 3
   },
   "file_extension": ".py",
   "mimetype": "text/x-python",
   "name": "python",
   "nbconvert_exporter": "python",
   "pygments_lexer": "ipython3",
   "version": "3.9.12"
  }
 },
 "nbformat": 4,
 "nbformat_minor": 5
}
