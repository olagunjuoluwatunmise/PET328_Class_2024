{
 "cells": [
  {
   "cell_type": "markdown",
   "id": "bd09caee",
   "metadata": {},
   "source": [
    "... to the only wise God!"
   ]
  },
  {
   "cell_type": "markdown",
   "id": "8f445790",
   "metadata": {},
   "source": [
    "## The 'for' Loop"
   ]
  },
  {
   "cell_type": "markdown",
   "id": "5e95e5ba",
   "metadata": {},
   "source": [
    "### 'For' loop as a counter"
   ]
  },
  {
   "cell_type": "code",
   "execution_count": 1,
   "id": "1c9843a9",
   "metadata": {},
   "outputs": [],
   "source": [
    "# Create a set of things to count\n",
    "components = ['methane', 'ethane', 'butane', 'propane', 'pentane', 'hexane', 'heptane+']"
   ]
  },
  {
   "cell_type": "code",
   "execution_count": 2,
   "id": "3bfc15c4",
   "metadata": {},
   "outputs": [
    {
     "name": "stdout",
     "output_type": "stream",
     "text": [
      "There are 7 components in the fluid mixture\n"
     ]
    }
   ],
   "source": [
    "\n",
    "# initialize counter variable to zero;\n",
    "# a counter is naturally equal to zero just before the counting begins\n",
    "n_comps = 0\n",
    "\n",
    "# the 'for' loop\n",
    "for comp in components:          # the loop header\n",
    "    n_comps = n_comps + 1        # the loop body (statement(s) to be repeated)\n",
    "    \n",
    "# looping (repitition) ends here, as the following line(s) are no more indented under the header\n",
    "\n",
    "print(f'There are {n_comps} components in the fluid mixture')         # just to give the final value of the counter"
   ]
  },
  {
   "cell_type": "markdown",
   "id": "71cd956e",
   "metadata": {},
   "source": [
    "Now, what's happening under the hood of the 'for' loop?!\n",
    "\n",
    "Below, we re-create the loop process, showing what happens at every cycle of the loop"
   ]
  },
  {
   "cell_type": "code",
   "execution_count": 6,
   "id": "212e2383",
   "metadata": {},
   "outputs": [],
   "source": [
    "# Initialization\n",
    "n_comps = 0"
   ]
  },
  {
   "cell_type": "code",
   "execution_count": 7,
   "id": "47a46845",
   "metadata": {},
   "outputs": [
    {
     "name": "stdout",
     "output_type": "stream",
     "text": [
      "1 methane\n"
     ]
    }
   ],
   "source": [
    "# First cycle of the loop:\n",
    "# the first element of the group is assigned to the iterator variable named 'comp'\n",
    "comp = 'methane'\n",
    "\n",
    "# then, for the first time, the statement in the body is executed thus:\n",
    "n_comps = n_comps + 1\n",
    "\n",
    "# check value of 'n_comps' and 'comp'\n",
    "print(n_comps, comp)"
   ]
  },
  {
   "cell_type": "code",
   "execution_count": 8,
   "id": "67018eeb",
   "metadata": {},
   "outputs": [
    {
     "name": "stdout",
     "output_type": "stream",
     "text": [
      "2 ethane\n"
     ]
    }
   ],
   "source": [
    "# Second cycle of the loop:\n",
    "# the second element of the group is assigned to the iterator variable named 'comp'\n",
    "comp = 'ethane'\n",
    "\n",
    "# then, for the second time, the statement in the body is executed thus:\n",
    "n_comps = n_comps + 1\n",
    "\n",
    "# check value of 'n_comps' and 'comp'\n",
    "print(n_comps, comp)"
   ]
  },
  {
   "cell_type": "code",
   "execution_count": 9,
   "id": "9c4bb742",
   "metadata": {},
   "outputs": [
    {
     "name": "stdout",
     "output_type": "stream",
     "text": [
      "3 butane\n"
     ]
    }
   ],
   "source": [
    "# Third cycle of the loop:\n",
    "# the third element of the group is assigned to the iterator variable named 'comp'\n",
    "comp = 'butane'\n",
    "\n",
    "# then, for the third time, the statement in the body is executed thus:\n",
    "n_comps = n_comps + 1\n",
    "\n",
    "# check value of 'n_comps' and 'comp'\n",
    "print(n_comps, comp)"
   ]
  },
  {
   "cell_type": "code",
   "execution_count": 10,
   "id": "a0b12825",
   "metadata": {},
   "outputs": [
    {
     "name": "stdout",
     "output_type": "stream",
     "text": [
      "4 propane\n"
     ]
    }
   ],
   "source": [
    "# Fourth cycle of the loop:\n",
    "# the fourth element of the group is assigned to the iterator variable named 'comp'\n",
    "comp = 'propane'\n",
    "\n",
    "# then, for the fourth time, the statement in the body is executed thus:\n",
    "n_comps = n_comps + 1\n",
    "\n",
    "# check value of 'n_comps' and 'comp'\n",
    "print(n_comps, comp)"
   ]
  },
  {
   "cell_type": "code",
   "execution_count": 11,
   "id": "1c8ad6de",
   "metadata": {},
   "outputs": [
    {
     "name": "stdout",
     "output_type": "stream",
     "text": [
      "5 pentane\n"
     ]
    }
   ],
   "source": [
    "# Fifth cycle of the loop:\n",
    "# the fifth element of the group is assigned to the iterator variable named 'comp'\n",
    "comp = 'pentane'\n",
    "\n",
    "# then, for the fifth time, the statement in the body is executed thus:\n",
    "n_comps = n_comps + 1\n",
    "\n",
    "# check value of 'n_comps' and 'comp'\n",
    "print(n_comps, comp)"
   ]
  },
  {
   "cell_type": "code",
   "execution_count": 12,
   "id": "93e1bbc0",
   "metadata": {},
   "outputs": [
    {
     "name": "stdout",
     "output_type": "stream",
     "text": [
      "6 hexane\n"
     ]
    }
   ],
   "source": [
    "# Sixth cycle of the loop:\n",
    "# the sixth element of the group is assigned to the iterator variable named 'comp'\n",
    "comp = 'hexane'\n",
    "\n",
    "# then, for the sixth time, the statement in the body is executed thus:\n",
    "n_comps = n_comps + 1\n",
    "\n",
    "# check value of 'n_comps' and 'comp'\n",
    "print(n_comps, comp)"
   ]
  },
  {
   "cell_type": "code",
   "execution_count": 13,
   "id": "6795ff8b",
   "metadata": {},
   "outputs": [
    {
     "name": "stdout",
     "output_type": "stream",
     "text": [
      "7 heptane+\n"
     ]
    }
   ],
   "source": [
    "# Seventh cycle of the loop:\n",
    "# the seventh element of the group is assigned to the iterator variable named 'comp'\n",
    "comp = 'heptane+'\n",
    "\n",
    "# then, for the seventh time, the statement in the body is executed thus:\n",
    "n_comps = n_comps + 1\n",
    "\n",
    "# check value of 'n_comps' and 'comp'\n",
    "print(n_comps, comp)"
   ]
  },
  {
   "cell_type": "code",
   "execution_count": 14,
   "id": "514b1d11",
   "metadata": {},
   "outputs": [
    {
     "name": "stdout",
     "output_type": "stream",
     "text": [
      "There are 7 components in the fluid mixture\n"
     ]
    }
   ],
   "source": [
    "# Lastly, the unidented statement outside the 'for' loop is executed, once!\n",
    "print(f'There are {n_comps} components in the fluid mixture')"
   ]
  },
  {
   "cell_type": "code",
   "execution_count": 28,
   "id": "026f4101",
   "metadata": {},
   "outputs": [
    {
     "name": "stdout",
     "output_type": "stream",
     "text": [
      "There are 7 components in the fluid mixture\n"
     ]
    }
   ],
   "source": [
    "# In summary, the following lines get executed when the 'for' loop is implemented:\n",
    "n_comps = 0\n",
    "\n",
    "comp = 'methane'\n",
    "n_comps = n_comps + 1\n",
    "\n",
    "comp = 'ethane'\n",
    "n_comps = n_comps + 1\n",
    "\n",
    "comp = 'butane'\n",
    "n_comps = n_comps + 1\n",
    "\n",
    "comp = 'propane'\n",
    "n_comps = n_comps + 1\n",
    "\n",
    "comp = 'pentane'\n",
    "n_comps = n_comps + 1\n",
    "\n",
    "comp = 'hexane'\n",
    "n_comps = n_comps + 1\n",
    "\n",
    "comp = 'heptane+'\n",
    "n_comps = n_comps + 1\n",
    "\n",
    "print(f'There are {n_comps} components in the fluid mixture')"
   ]
  },
  {
   "cell_type": "markdown",
   "id": "78270cb2",
   "metadata": {},
   "source": [
    "### 'For' loop as an aggregator"
   ]
  },
  {
   "cell_type": "code",
   "execution_count": 3,
   "id": "4ec47f37",
   "metadata": {},
   "outputs": [],
   "source": [
    " well_rates = [150, 130, 90, 140, 100, 120, 110]"
   ]
  },
  {
   "cell_type": "code",
   "execution_count": 4,
   "id": "2c7f69f2",
   "metadata": {},
   "outputs": [
    {
     "name": "stdout",
     "output_type": "stream",
     "text": [
      "840\n"
     ]
    }
   ],
   "source": [
    "total_rate = 0\n",
    "\n",
    "for rate in well_rates:\n",
    "    total_rate = total_rate + rate\n",
    "print(total_rate)"
   ]
  },
  {
   "cell_type": "markdown",
   "id": "bf9b4429",
   "metadata": {},
   "source": [
    "Under the hood:"
   ]
  },
  {
   "cell_type": "code",
   "execution_count": 18,
   "id": "29a5ad8a",
   "metadata": {},
   "outputs": [
    {
     "name": "stdout",
     "output_type": "stream",
     "text": [
      "150 150\n",
      "130 280\n",
      "90 370\n",
      "140 510\n",
      "100 610\n",
      "120 730\n",
      "110 840\n"
     ]
    }
   ],
   "source": [
    "total_rate = 0\n",
    "\n",
    "rate = 150\n",
    "total_rate = total_rate + rate\n",
    "# track values\n",
    "print(rate, total_rate)\n",
    "\n",
    "rate = 130\n",
    "total_rate = total_rate + rate\n",
    "# track values\n",
    "print(rate, total_rate)\n",
    "\n",
    "rate = 90\n",
    "total_rate = total_rate + rate\n",
    "# track values\n",
    "print(rate, total_rate)\n",
    "\n",
    "rate = 140\n",
    "total_rate = total_rate + rate\n",
    "# track values\n",
    "print(rate, total_rate)\n",
    "\n",
    "rate = 100\n",
    "total_rate = total_rate + rate\n",
    "# track values\n",
    "print(rate, total_rate)\n",
    "\n",
    "rate = 120\n",
    "total_rate = total_rate + rate\n",
    "# track values\n",
    "print(rate, total_rate)\n",
    "\n",
    "rate = 110\n",
    "total_rate = total_rate + rate\n",
    "# track values\n",
    "print(rate, total_rate)"
   ]
  },
  {
   "cell_type": "markdown",
   "id": "7a5917e5",
   "metadata": {},
   "source": [
    "The group to be looped through may not necessarily be created before the 'for' loop header\n",
    "\n",
    "It may be directly referenced right in the header."
   ]
  },
  {
   "cell_type": "code",
   "execution_count": 33,
   "id": "fdddf4f0",
   "metadata": {},
   "outputs": [
    {
     "name": "stdout",
     "output_type": "stream",
     "text": [
      "This is Block 1\n",
      "This is Block 2\n",
      "This is Block 3\n",
      "This is Block 4\n",
      "This is Block 5\n"
     ]
    }
   ],
   "source": [
    "\n",
    "#blocks = [1,2,3,4,5]\n",
    "#for block in blocks:\n",
    "#    print(f'This is Block {block}')\n",
    "\n",
    "#The code chunk above is equivalent to this below:\n",
    "\n",
    "for block in [1,2,3,4,5]:\n",
    "    print(f'This is Block {block}')"
   ]
  },
  {
   "cell_type": "markdown",
   "id": "9be7a076",
   "metadata": {},
   "source": [
    "Now, if the group to be looped through is a logical sequence of number, it could be created using Function 'range'"
   ]
  },
  {
   "cell_type": "code",
   "execution_count": 34,
   "id": "8de46093",
   "metadata": {},
   "outputs": [
    {
     "data": {
      "text/plain": [
       "[0, 1, 2, 3, 4, 5]"
      ]
     },
     "execution_count": 34,
     "metadata": {},
     "output_type": "execute_result"
    }
   ],
   "source": [
    "list(range(6))"
   ]
  },
  {
   "cell_type": "code",
   "execution_count": 35,
   "id": "effd2985",
   "metadata": {},
   "outputs": [
    {
     "data": {
      "text/plain": [
       "[1, 2, 3, 4, 5]"
      ]
     },
     "execution_count": 35,
     "metadata": {},
     "output_type": "execute_result"
    }
   ],
   "source": [
    "list(range(1, 6))"
   ]
  },
  {
   "cell_type": "code",
   "execution_count": 36,
   "id": "edbc97b3",
   "metadata": {},
   "outputs": [
    {
     "data": {
      "text/plain": [
       "[1, 3, 5, 7, 9, 11]"
      ]
     },
     "execution_count": 36,
     "metadata": {},
     "output_type": "execute_result"
    }
   ],
   "source": [
    "list(range(1, 12, 2))"
   ]
  },
  {
   "cell_type": "code",
   "execution_count": 20,
   "id": "7b75c9b3",
   "metadata": {},
   "outputs": [
    {
     "data": {
      "text/plain": [
       "[2, 6, 10, 14, 18, 22, 26, 30, 34, 38, 42, 46, 50]"
      ]
     },
     "execution_count": 20,
     "metadata": {},
     "output_type": "execute_result"
    }
   ],
   "source": [
    "list(range(2, 51, 4))"
   ]
  },
  {
   "cell_type": "code",
   "execution_count": 40,
   "id": "8fd02d3f",
   "metadata": {},
   "outputs": [
    {
     "name": "stdout",
     "output_type": "stream",
     "text": [
      "This is Block 1\n",
      "This is Block 2\n",
      "This is Block 3\n",
      "This is Block 4\n",
      "This is Block 5\n"
     ]
    }
   ],
   "source": [
    "for block in range(1,6):\n",
    "    print(f'This is Block {block}')"
   ]
  },
  {
   "cell_type": "markdown",
   "id": "8e237dda",
   "metadata": {},
   "source": [
    "### PE application of 'for' loop: computing STOIIP for a discetized reservoir."
   ]
  },
  {
   "attachments": {
    "image.png": {
     "image/png": "[encoded data removed]"
    }
   },
   "cell_type": "markdown",
   "id": "7c0979d8",
   "metadata": {},
   "source": [
    "![image.png](attachment:image.png)"
   ]
  },
  {
   "cell_type": "code",
   "execution_count": 25,
   "id": "59a1a6e1",
   "metadata": {},
   "outputs": [
    {
     "name": "stdout",
     "output_type": "stream",
     "text": [
      "What is the length of the reservoir in x-direction?200\n",
      "What is the length of the reservoir in y-direction?300\n",
      "What is the thickness of the reservoir?40\n",
      "How many blocks there are in x-axis?3\n",
      "How many blocks there are in y-axis?2\n",
      "What is the value of initial oil FVF?1.2\n"
     ]
    }
   ],
   "source": [
    "# input statements\n",
    "Lx = float(input('What is the length of the reservoir in x-direction?'))\n",
    "Ly = float(input('What is the length of the reservoir in y-direction?'))\n",
    "h = float(input('What is the thickness of the reservoir?'))\n",
    "nx = int(input('How many blocks there are in x-axis?'))\n",
    "ny = int(input('How many blocks there are in y-axis?'))\n",
    "boi = float(input('What is the value of initial oil FVF?'))"
   ]
  },
  {
   "cell_type": "code",
   "execution_count": 26,
   "id": "9caa1a2d",
   "metadata": {},
   "outputs": [
    {
     "name": "stdout",
     "output_type": "stream",
     "text": [
      "66.66666666666667 150.0\n"
     ]
    }
   ],
   "source": [
    "# discretizing the reservoir\n",
    "\n",
    "delta_x = Lx/nx\n",
    "delta_y = Ly/ny\n",
    "\n",
    "print(delta_x, delta_y)"
   ]
  },
  {
   "cell_type": "code",
   "execution_count": 27,
   "id": "58f3b02f",
   "metadata": {},
   "outputs": [
    {
     "name": "stdout",
     "output_type": "stream",
     "text": [
      "10000.0\n"
     ]
    }
   ],
   "source": [
    "# calculating the area per block\n",
    "area = delta_x*delta_y\n",
    "\n",
    "print(area)"
   ]
  },
  {
   "cell_type": "code",
   "execution_count": 28,
   "id": "c3c237e4",
   "metadata": {},
   "outputs": [],
   "source": [
    "# initializing aggregator variable\n",
    "\n",
    "total_stoiip = 0"
   ]
  },
  {
   "cell_type": "code",
   "execution_count": 30,
   "id": "a00d8ca6",
   "metadata": {
    "scrolled": true
   },
   "outputs": [
    {
     "name": "stdout",
     "output_type": "stream",
     "text": [
      "Computing STOIIP for Block1, i.e Block [1,1] now...\n",
      "\n",
      "What is the value of porosity for Block 1?0.23\n",
      "What is the value of water saturation for Block 1?0.28\n",
      "\n",
      "The amount of oil in Block 1, i.e Block [1,1] is 428241600.0 STB\n",
      "\n",
      "\n",
      "Computing STOIIP for Block2, i.e Block [2,1] now...\n",
      "\n",
      "What is the value of porosity for Block 2?0.21\n",
      "What is the value of water saturation for Block 2?0.25\n",
      "\n",
      "The amount of oil in Block 2, i.e Block [2,1] is 407295000.0 STB\n",
      "\n",
      "\n",
      "Computing STOIIP for Block3, i.e Block [3,1] now...\n",
      "\n",
      "What is the value of porosity for Block 3?0.15\n",
      "What is the value of water saturation for Block 3?0.39\n",
      "\n",
      "The amount of oil in Block 3, i.e Block [3,1] is 236619000.0 STB\n",
      "\n",
      "\n",
      "\n",
      "This is the end of computations for Row 1\n",
      "\n",
      "\n",
      "Computing STOIIP for Block4, i.e Block [1,2] now...\n",
      "\n",
      "What is the value of porosity for Block 4?0.36\n",
      "What is the value of water saturation for Block 4?0.24\n",
      "\n",
      "The amount of oil in Block 4, i.e Block [1,2] is 707529600.0 STB\n",
      "\n",
      "\n",
      "Computing STOIIP for Block5, i.e Block [2,2] now...\n",
      "\n",
      "What is the value of porosity for Block 5?0.12\n",
      "What is the value of water saturation for Block 5?0.32\n",
      "\n",
      "The amount of oil in Block 5, i.e Block [2,2] is 211017600.0 STB\n",
      "\n",
      "\n",
      "Computing STOIIP for Block6, i.e Block [3,2] now...\n",
      "\n",
      "What is the value of porosity for Block 6?0.29\n",
      "What is the value of water saturation for Block 6?0.19\n",
      "\n",
      "The amount of oil in Block 6, i.e Block [3,2] is 607451400.0 STB\n",
      "\n",
      "\n",
      "\n",
      "This is the end of computations for Row 2\n",
      "\n",
      "\n"
     ]
    }
   ],
   "source": [
    "# the 'for' loop\n",
    "for j in range(1,ny+1):\n",
    "    for i in range(1,nx+1):\n",
    "        block_n_order = (nx*(j-1))+i\n",
    "        print(f'Computing STOIIP for Block{block_n_order}, i.e Block [{i},{j}] now...\\n')\n",
    "        poro = float(input(f'What is the value of porosity for Block {block_n_order}?'))\n",
    "        sw = float(input(f'What is the value of water saturation for Block {block_n_order}?'))\n",
    "        block_stoiip = (7758*area*h*poro*(1-sw))/boi\n",
    "        total_stoiip = total_stoiip + block_stoiip    # aggregation\n",
    "        print(f'\\nThe amount of oil in Block {block_n_order}, i.e Block [{i},{j}] is {round(block_stoiip, 2)} STB\\n\\n')\n",
    "    print(f'\\nThis is the end of computations for Row {j}\\n\\n')\n"
   ]
  },
  {
   "cell_type": "code",
   "execution_count": 31,
   "id": "0c932b78",
   "metadata": {},
   "outputs": [
    {
     "name": "stdout",
     "output_type": "stream",
     "text": [
      "The amount of oil in the entire reservoir is 2598154200.0 STB\n"
     ]
    }
   ],
   "source": [
    "# displaying the final results.\n",
    "print(f'The amount of oil in the entire reservoir is {round(total_stoiip, 2)} STB')"
   ]
  },
  {
   "cell_type": "markdown",
   "id": "4a4ce0dd",
   "metadata": {},
   "source": [
    "## The 'while' Loop"
   ]
  },
  {
   "cell_type": "code",
   "execution_count": 58,
   "id": "5129b2d4",
   "metadata": {},
   "outputs": [],
   "source": [
    "current_pressure = 4000\n",
    "bubble_pressure = 2800"
   ]
  },
  {
   "cell_type": "code",
   "execution_count": 59,
   "id": "46c918b9",
   "metadata": {},
   "outputs": [
    {
     "name": "stdout",
     "output_type": "stream",
     "text": [
      "At Pressure 4000 psi, the reservoir is still undersaturated\n",
      "Computing...\n",
      "At Pressure 3800 psi, the reservoir is still undersaturated\n",
      "Computing...\n",
      "At Pressure 3600 psi, the reservoir is still undersaturated\n",
      "Computing...\n",
      "At Pressure 3400 psi, the reservoir is still undersaturated\n",
      "Computing...\n",
      "At Pressure 3200 psi, the reservoir is still undersaturated\n",
      "Computing...\n",
      "At Pressure 3000 psi, the reservoir is still undersaturated\n",
      "Computing...\n",
      "At Pressure 2800 psi, the reservoir is still undersaturated\n",
      "Computing...\n",
      "Undersaturated computations ends at 2600\n",
      "Proceeding to saturated regime\n"
     ]
    }
   ],
   "source": [
    "while current_pressure >= bubble_pressure:\n",
    "    print(f'At Pressure {current_pressure} psi, the reservoir is still undersaturated')\n",
    "    print('Computing...')\n",
    "    current_pressure = current_pressure - 200\n",
    "\n",
    "# At the end of loop:\n",
    "print(f'Undersaturated computations ends at {current_pressure}')\n",
    "print('Proceeding to saturated regime')"
   ]
  },
  {
   "cell_type": "markdown",
   "id": "8f2dbf2b",
   "metadata": {},
   "source": [
    "Under the hood:"
   ]
  },
  {
   "cell_type": "code",
   "execution_count": 60,
   "id": "5a35062c",
   "metadata": {},
   "outputs": [
    {
     "name": "stdout",
     "output_type": "stream",
     "text": [
      "At Pressure 4000 psi, the reservoir is still undersaturated\n",
      "Computing...\n",
      "At Pressure 3800 psi, the reservoir is still undersaturated\n",
      "Computing...\n",
      "At Pressure 3600 psi, the reservoir is still undersaturated\n",
      "Computing...\n",
      "At Pressure 3400 psi, the reservoir is still undersaturated\n",
      "Computing...\n",
      "At Pressure 3200 psi, the reservoir is still undersaturated\n",
      "Computing...\n",
      "At Pressure 3000 psi, the reservoir is still undersaturated\n",
      "Computing...\n",
      "At Pressure 2800 psi, the reservoir is still undersaturated\n",
      "Computing...\n",
      "Undersaturated computations ends at 2600\n",
      "Proceeding to saturated regime\n"
     ]
    }
   ],
   "source": [
    "current_pressure = 4000\n",
    "bubble_pressure = 2800\n",
    "\n",
    "if current_pressure >= bubble_pressure:\n",
    "    print(f'At Pressure {current_pressure} psi, the reservoir is still undersaturated')\n",
    "    print('Computing...')\n",
    "    current_pressure = current_pressure - 200\n",
    "    \n",
    "if current_pressure >= bubble_pressure:\n",
    "    print(f'At Pressure {current_pressure} psi, the reservoir is still undersaturated')\n",
    "    print('Computing...')\n",
    "    current_pressure = current_pressure - 200\n",
    "    \n",
    "if current_pressure >= bubble_pressure:\n",
    "    print(f'At Pressure {current_pressure} psi, the reservoir is still undersaturated')\n",
    "    print('Computing...')\n",
    "    current_pressure = current_pressure - 200\n",
    "    \n",
    "if current_pressure >= bubble_pressure:\n",
    "    print(f'At Pressure {current_pressure} psi, the reservoir is still undersaturated')\n",
    "    print('Computing...')\n",
    "    current_pressure = current_pressure - 200\n",
    "    \n",
    "if current_pressure >= bubble_pressure:\n",
    "    print(f'At Pressure {current_pressure} psi, the reservoir is still undersaturated')\n",
    "    print('Computing...')\n",
    "    current_pressure = current_pressure - 200\n",
    "    \n",
    "if current_pressure >= bubble_pressure:\n",
    "    print(f'At Pressure {current_pressure} psi, the reservoir is still undersaturated')\n",
    "    print('Computing...')\n",
    "    current_pressure = current_pressure - 200\n",
    "    \n",
    "if current_pressure >= bubble_pressure:\n",
    "    print(f'At Pressure {current_pressure} psi, the reservoir is still undersaturated')\n",
    "    print('Computing...')\n",
    "    current_pressure = current_pressure - 200\n",
    "    \n",
    "print(f'Undersaturated computations ends at {current_pressure}')\n",
    "print('Proceeding to saturated regime')"
   ]
  },
  {
   "cell_type": "markdown",
   "id": "609cc68e",
   "metadata": {},
   "source": [
    "#### A PE application of 'while' loop: updating oil formation volume factor"
   ]
  },
  {
   "cell_type": "code",
   "execution_count": 17,
   "id": "a315710b",
   "metadata": {},
   "outputs": [
    {
     "name": "stdout",
     "output_type": "stream",
     "text": [
      "What is the value of reservoir initial pressure?4000\n",
      "What is the value of reservoir bubble-point pressure?2800\n",
      "What is the value of oil FVF at bubble-point pressure?1.2511\n",
      "What is the value of oil compressibility?0.0000113\n",
      "By how much should pressure be decremented?200\n"
     ]
    }
   ],
   "source": [
    "# input statements\n",
    "p = float(input('What is the value of reservoir initial pressure?'))\n",
    "pb = float(input('What is the value of reservoir bubble-point pressure?'))\n",
    "bob = float(input('What is the value of oil FVF at bubble-point pressure?'))\n",
    "co = float(input('What is the value of oil compressibility?'))\n",
    "pressure_step = float(input('By how much should pressure be decremented?'))"
   ]
  },
  {
   "cell_type": "code",
   "execution_count": 18,
   "id": "9f81845b",
   "metadata": {},
   "outputs": [],
   "source": [
    "# importing needed library\n",
    "import math"
   ]
  },
  {
   "cell_type": "code",
   "execution_count": 19,
   "id": "13f774c1",
   "metadata": {},
   "outputs": [
    {
     "name": "stdout",
     "output_type": "stream",
     "text": [
      "The value of oil FVF at 4000.0 psi is 1.2342 RB/STB\n",
      "The value of oil FVF at 3800.0 psi is 1.237 RB/STB\n",
      "The value of oil FVF at 3600.0 psi is 1.2398 RB/STB\n",
      "The value of oil FVF at 3400.0 psi is 1.2426 RB/STB\n",
      "The value of oil FVF at 3200.0 psi is 1.2455 RB/STB\n",
      "The value of oil FVF at 3000.0 psi is 1.2483 RB/STB\n",
      "The value of oil FVF at 2800.0 psi is 1.2511 RB/STB\n"
     ]
    }
   ],
   "source": [
    "while p >= pb:\n",
    "    bo = bob*(math.exp(co*(pb-p)))\n",
    "    print(f'The value of oil FVF at {p} psi is {round(bo, 4)} RB/STB')\n",
    "    p = p - pressure_step   "
   ]
  },
  {
   "cell_type": "code",
   "execution_count": 20,
   "id": "d506cc5c",
   "metadata": {},
   "outputs": [
    {
     "name": "stdout",
     "output_type": "stream",
     "text": [
      "Bubble-point pressure reached! End of simulation\n"
     ]
    }
   ],
   "source": [
    "# continuing after the 'while' loop\n",
    "print('Bubble-point pressure reached! End of simulation')"
   ]
  },
  {
   "cell_type": "code",
   "execution_count": null,
   "id": "f910c626",
   "metadata": {},
   "outputs": [],
   "source": []
  }
 ],
 "metadata": {
  "kernelspec": {
   "display_name": "Python 3 (ipykernel)",
   "language": "python",
   "name": "python3"
  },
  "language_info": {
   "codemirror_mode": {
    "name": "ipython",
    "version": 3
   },
   "file_extension": ".py",
   "mimetype": "text/x-python",
   "name": "python",
   "nbconvert_exporter": "python",
   "pygments_lexer": "ipython3",
   "version": "3.9.12"
  }
 },
 "nbformat": 4,
 "nbformat_minor": 5
}
