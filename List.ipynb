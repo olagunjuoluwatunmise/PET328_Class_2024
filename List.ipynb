{
 "cells": [
  {
   "cell_type": "markdown",
   "id": "542562f8",
   "metadata": {},
   "source": [
    "... to the only wise God!!!"
   ]
  },
  {
   "cell_type": "markdown",
   "id": "1e3f2dbc",
   "metadata": {},
   "source": [
    "## Lists"
   ]
  },
  {
   "cell_type": "code",
   "execution_count": 1,
   "id": "a524f7cd",
   "metadata": {},
   "outputs": [],
   "source": [
    "poro = [0.49, 0.45, 0.26, 0.12, 0.37, 0.32, 0.15, 0.42, 0.11, 0.26]"
   ]
  },
  {
   "cell_type": "code",
   "execution_count": 2,
   "id": "ebbf6246",
   "metadata": {},
   "outputs": [],
   "source": [
    "reser_prop = ['poro', 'perm', 'water_sat', 'oil_sat', 'acreage', 'pay_thick']"
   ]
  },
  {
   "cell_type": "code",
   "execution_count": 3,
   "id": "c2b55c33",
   "metadata": {},
   "outputs": [],
   "source": [
    "mantra = ['TTOWG']"
   ]
  },
  {
   "cell_type": "code",
   "execution_count": 4,
   "id": "cd332c1d",
   "metadata": {},
   "outputs": [],
   "source": [
    "empto = []"
   ]
  },
  {
   "cell_type": "code",
   "execution_count": 5,
   "id": "377ffda0",
   "metadata": {},
   "outputs": [
    {
     "data": {
      "text/plain": [
       "['PET328']"
      ]
     },
     "execution_count": 5,
     "metadata": {},
     "output_type": "execute_result"
    }
   ],
   "source": [
    "['PET328']"
   ]
  },
  {
   "cell_type": "code",
   "execution_count": 17,
   "id": "7f522724",
   "metadata": {},
   "outputs": [],
   "source": [
    "perm = list((120, 40)) "
   ]
  },
  {
   "cell_type": "code",
   "execution_count": 18,
   "id": "be72274d",
   "metadata": {},
   "outputs": [
    {
     "data": {
      "text/plain": [
       "[120, 40]"
      ]
     },
     "execution_count": 18,
     "metadata": {},
     "output_type": "execute_result"
    }
   ],
   "source": [
    "perm"
   ]
  },
  {
   "cell_type": "code",
   "execution_count": 20,
   "id": "771ae7b1",
   "metadata": {},
   "outputs": [],
   "source": [
    "singler = list((7,))"
   ]
  },
  {
   "cell_type": "code",
   "execution_count": 21,
   "id": "1e3b41d4",
   "metadata": {},
   "outputs": [
    {
     "data": {
      "text/plain": [
       "[7]"
      ]
     },
     "execution_count": 21,
     "metadata": {},
     "output_type": "execute_result"
    }
   ],
   "source": [
    "singler"
   ]
  },
  {
   "cell_type": "code",
   "execution_count": 22,
   "id": "590e9cfe",
   "metadata": {},
   "outputs": [
    {
     "data": {
      "text/plain": [
       "0.12"
      ]
     },
     "execution_count": 22,
     "metadata": {},
     "output_type": "execute_result"
    }
   ],
   "source": [
    "poro[3]"
   ]
  },
  {
   "cell_type": "code",
   "execution_count": 23,
   "id": "1787ed15",
   "metadata": {},
   "outputs": [
    {
     "data": {
      "text/plain": [
       "0.15"
      ]
     },
     "execution_count": 23,
     "metadata": {},
     "output_type": "execute_result"
    }
   ],
   "source": [
    "poro[6]"
   ]
  },
  {
   "cell_type": "code",
   "execution_count": 24,
   "id": "b0b60124",
   "metadata": {},
   "outputs": [
    {
     "data": {
      "text/plain": [
       "0.26"
      ]
     },
     "execution_count": 24,
     "metadata": {},
     "output_type": "execute_result"
    }
   ],
   "source": [
    "poro[-1]"
   ]
  },
  {
   "cell_type": "code",
   "execution_count": 25,
   "id": "19e0fdff",
   "metadata": {},
   "outputs": [
    {
     "data": {
      "text/plain": [
       "0.42"
      ]
     },
     "execution_count": 25,
     "metadata": {},
     "output_type": "execute_result"
    }
   ],
   "source": [
    "poro[-3]"
   ]
  },
  {
   "cell_type": "code",
   "execution_count": 26,
   "id": "b6375a4b",
   "metadata": {},
   "outputs": [],
   "source": [
    "poro[5] = 0.23"
   ]
  },
  {
   "cell_type": "code",
   "execution_count": 27,
   "id": "be2512e1",
   "metadata": {},
   "outputs": [
    {
     "data": {
      "text/plain": [
       "[0.49, 0.45, 0.26, 0.12, 0.37, 0.23, 0.15, 0.42, 0.11, 0.26]"
      ]
     },
     "execution_count": 27,
     "metadata": {},
     "output_type": "execute_result"
    }
   ],
   "source": [
    "poro"
   ]
  },
  {
   "cell_type": "code",
   "execution_count": 28,
   "id": "3498c0e7",
   "metadata": {},
   "outputs": [
    {
     "data": {
      "text/plain": [
       "[0.26, 0.12, 0.37, 0.23]"
      ]
     },
     "execution_count": 28,
     "metadata": {},
     "output_type": "execute_result"
    }
   ],
   "source": [
    "poro[2:6]"
   ]
  },
  {
   "cell_type": "markdown",
   "id": "b3717dfc",
   "metadata": {},
   "source": [
    "### Indexing Lists: accessing elements of lists"
   ]
  },
  {
   "cell_type": "markdown",
   "id": "8bf12022",
   "metadata": {},
   "source": [
    "If the left index is not specified, then the slice is taken from the beginning of the list."
   ]
  },
  {
   "cell_type": "code",
   "execution_count": 4,
   "id": "affad482",
   "metadata": {},
   "outputs": [
    {
     "data": {
      "text/plain": [
       "[0.49, 0.45, 0.26, 0.12, 0.37, 0.32, 0.15, 0.42, 0.11, 0.26]"
      ]
     },
     "execution_count": 4,
     "metadata": {},
     "output_type": "execute_result"
    }
   ],
   "source": [
    "poro"
   ]
  },
  {
   "cell_type": "code",
   "execution_count": 3,
   "id": "ff922003",
   "metadata": {},
   "outputs": [
    {
     "data": {
      "text/plain": [
       "[0.49, 0.45, 0.26, 0.12]"
      ]
     },
     "execution_count": 3,
     "metadata": {},
     "output_type": "execute_result"
    }
   ],
   "source": [
    "west_poro = poro[:4]      # equivalent to poro[0:4 \n",
    "west_poro"
   ]
  },
  {
   "cell_type": "markdown",
   "id": "d374d2b6",
   "metadata": {},
   "source": [
    "If the right index is not specified, then the slice is taken to the end of the list."
   ]
  },
  {
   "cell_type": "code",
   "execution_count": 5,
   "id": "dae74641",
   "metadata": {},
   "outputs": [
    {
     "data": {
      "text/plain": [
       "[0.37, 0.32, 0.15, 0.42, 0.11, 0.26]"
      ]
     },
     "execution_count": 5,
     "metadata": {},
     "output_type": "execute_result"
    }
   ],
   "source": [
    "east_poro = poro[4:]     # equivalent to poro[4:10]\n",
    "east_poro"
   ]
  },
  {
   "cell_type": "markdown",
   "id": "c391b795",
   "metadata": {},
   "source": [
    "If both indices are not specified, then the entire list is returned unsliced."
   ]
  },
  {
   "cell_type": "code",
   "execution_count": 8,
   "id": "dcffbdb2",
   "metadata": {},
   "outputs": [
    {
     "data": {
      "text/plain": [
       "[0.49, 0.45, 0.26, 0.12, 0.37, 0.32, 0.15, 0.42, 0.11, 0.26]"
      ]
     },
     "execution_count": 8,
     "metadata": {},
     "output_type": "execute_result"
    }
   ],
   "source": [
    "copy_poro = poro[:]\n",
    "copy_poro"
   ]
  },
  {
   "cell_type": "markdown",
   "id": "68061d44",
   "metadata": {},
   "source": [
    "Indexing an entire list like this is the way to create a copy of the list, with no reference to the original list anymore. That is, changes can be made to the copy without effecting the change in the original list. \n",
    "\n",
    "Copying a  list by mere assignment to a new variable still retains reference to the original list; any change in either one (the copy or the original) is refelected in the other."
   ]
  },
  {
   "cell_type": "code",
   "execution_count": 12,
   "id": "0dd51cea",
   "metadata": {},
   "outputs": [
    {
     "name": "stdout",
     "output_type": "stream",
     "text": [
      "[10, 20, 56]\n",
      "[10, 20, 56]\n",
      "[10, 20, 56]\n",
      "[900, 20, 56]\n",
      "[900, 20, 56]\n",
      "[10, 20, 56]\n"
     ]
    }
   ],
   "source": [
    "original = [10, 20, 56]\n",
    "\n",
    "copy_ref = original\n",
    "copy_noref = original[:]\n",
    "\n",
    "print(original)\n",
    "print(copy_ref)\n",
    "print(copy_noref)\n",
    "\n",
    "# make a change to original\n",
    "original[0] = 900\n",
    "\n",
    "print(original)\n",
    "print(copy_ref)\n",
    "print(copy_noref)"
   ]
  },
  {
   "attachments": {},
   "cell_type": "markdown",
   "id": "3a783cab",
   "metadata": {},
   "source": [
    "### List Operations, Methods and Functions"
   ]
  },
  {
   "attachments": {},
   "cell_type": "markdown",
   "id": "49497ae1",
   "metadata": {},
   "source": [
    "Concatenation: combining multiple lists (side by side) using the + operator."
   ]
  },
  {
   "cell_type": "code",
   "execution_count": 16,
   "id": "d2079ea1",
   "metadata": {},
   "outputs": [
    {
     "name": "stdout",
     "output_type": "stream",
     "text": [
      "[0.49, 0.45, 0.26, 0.12, 0.37, 0.32, 0.15, 0.42, 0.11, 0.26, 0.28, 0.19, 0.2, 0.16]\n"
     ]
    }
   ],
   "source": [
    "more_poro = [0.28, 0.19, 0.20, 0.16]\n",
    "\n",
    "all_poro = poro + more_poro\n",
    "\n",
    "print(all_poro)"
   ]
  },
  {
   "cell_type": "markdown",
   "id": "e5328ea7",
   "metadata": {},
   "source": [
    "Replication: replicating all elements of a list a given number of times using the * operator."
   ]
  },
  {
   "cell_type": "code",
   "execution_count": 17,
   "id": "5380fabb",
   "metadata": {},
   "outputs": [
    {
     "name": "stdout",
     "output_type": "stream",
     "text": [
      "[120, 114, 150, 170, 120, 114, 150, 170]\n"
     ]
    }
   ],
   "source": [
    "perm_left = [120, 114, 150, 170]\n",
    "\n",
    "all_perm = perm_left*2\n",
    "print(all_perm)"
   ]
  },
  {
   "attachments": {},
   "cell_type": "markdown",
   "id": "8deca7c9",
   "metadata": {},
   "source": [
    "**.append method**\n",
    "\n",
    "An extra element (just 1) could be appended to the end of a list using the append method.\n",
    "\n",
    "This append method is commonly used to append a newly generated output to the overall list of outputs in a for loop."
   ]
  },
  {
   "cell_type": "code",
   "execution_count": 18,
   "id": "858b03c7",
   "metadata": {},
   "outputs": [
    {
     "name": "stdout",
     "output_type": "stream",
     "text": [
      "[1456, 1738, 1509, 1611]\n"
     ]
    }
   ],
   "source": [
    "all_stoiip = [1456, 1738, 1509]    # say these are stoiip values for Blocks 1,2,3\n",
    "stoiip_block4 = 1611   # say stoiip for Block 4 just got obtained\n",
    "\n",
    "all_stoiip.append(stoiip_block4)    # appending stoiip for Block 4 to the nd of the list\n",
    "\n",
    "print(all_stoiip)"
   ]
  },
  {
   "attachments": {},
   "cell_type": "markdown",
   "id": "58f1fed6",
   "metadata": {},
   "source": [
    "**.extend method**\n",
    "\n",
    "An existing list could be extended with multiple elements using the extend method."
   ]
  },
  {
   "cell_type": "code",
   "execution_count": 19,
   "id": "77fd6841",
   "metadata": {},
   "outputs": [
    {
     "name": "stdout",
     "output_type": "stream",
     "text": [
      "[4000, 3890, 3503, 3205, 2956]\n"
     ]
    }
   ],
   "source": [
    "pressures = [4000, 3890, 3503]\n",
    "more_pressure = [3205, 2956]\n",
    "\n",
    "pressures.extend(more_pressure)\n",
    "\n",
    "print(pressures)"
   ]
  },
  {
   "cell_type": "markdown",
   "id": "5e627bb0",
   "metadata": {},
   "source": [
    "Please, note that the _.append_ and _.extend_ methods do not return values; rather, they modify the object list in-place (without copying). \n",
    "\n",
    "Caution: never do poro = poro.append()\n",
    "\n",
    "The argument list remains unmodified.\n",
    "\n",
    "The object list refers to the list on which the method is called while the argument list refers to the list to be appended to (or extended) to the object list.\n"
   ]
  },
  {
   "cell_type": "code",
   "execution_count": null,
   "id": "06f5783d",
   "metadata": {},
   "outputs": [],
   "source": []
  }
 ],
 "metadata": {
  "kernelspec": {
   "display_name": "Python 3 (ipykernel)",
   "language": "python",
   "name": "python3"
  },
  "language_info": {
   "codemirror_mode": {
    "name": "ipython",
    "version": 3
   },
   "file_extension": ".py",
   "mimetype": "text/x-python",
   "name": "python",
   "nbconvert_exporter": "python",
   "pygments_lexer": "ipython3",
   "version": "3.9.12"
  }
 },
 "nbformat": 4,
 "nbformat_minor": 5
}
